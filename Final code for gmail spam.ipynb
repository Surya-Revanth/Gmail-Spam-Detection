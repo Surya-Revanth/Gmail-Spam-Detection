{
 "cells": [
  {
   "cell_type": "code",
   "execution_count": 1,
   "id": "0ff16540",
   "metadata": {},
   "outputs": [
    {
     "name": "stdout",
     "output_type": "stream",
     "text": [
      "colums in the given data:\n",
      "type\n",
      "text\n",
      "spam\n",
      "NO OF ROWS IN REVIEWS COLUMN 116\n",
      "NO OF ROWS IN liked COLUMN 116\n"
     ]
    }
   ],
   "source": [
    "import numpy as np\n",
    "import pandas as pd\n",
    "\n",
    "dt = pd.read_csv('SPAM.csv')\n",
    " \n",
    "dt['spam'] = dt['type'].map( {'spam': 1, 'ham': 0} ).astype(int)\n",
    " \n",
    "dt.head(10)\n",
    "\n",
    "print(\"colums in the given data:\")\n",
    "for i in dt.columns:\n",
    "    print(i)\n",
    "t=len(dt['type'])\n",
    "print(\"NO OF ROWS IN REVIEWS COLUMN\",t)\n",
    "t=len(dt['text'])\n",
    "print(\"NO OF ROWS IN liked COLUMN\",t)\n",
    "\n",
    "dt['text'][1]\n",
    "    \n",
    "\n",
    "    \n",
    "def tokenizer(text):\n",
    "    return text.split()\n",
    "\n",
    "dt['text']=dt['text'].apply(tokenizer)\n",
    "\n",
    "\n",
    "\n",
    "\n",
    "\n",
    "\n",
    "import nltk\n",
    "\n",
    "from nltk.stem.snowball import SnowballStemmer\n",
    "\n",
    "snow_stemmer = SnowballStemmer(language='english') \n",
    "\n",
    "def stem_it(text):\n",
    "    return [snow_stemmer.stem(w) for w in text]\n",
    "\n",
    "dt['text']=dt['text'].apply(stem_it)\n",
    "\n",
    "\n",
    "\n",
    "\n",
    "\n",
    "\n",
    "\n",
    "\n",
    "\n",
    "from nltk.stem  import  WordNetLemmatizer\n",
    "\n",
    "lemmatizer = WordNetLemmatizer()\n",
    "\n",
    "def lemmit_it(text):\n",
    "    return [lemmatizer.lemmatize(w,pos=\"a\") for w in text]\n",
    "\n",
    "dt['text']=dt['text'].apply(lemmit_it)\n",
    "\n",
    "\n",
    "\n",
    "\n",
    "\n",
    "\n",
    "\n",
    "\n",
    "\n",
    "\n",
    "from nltk.corpus import stopwords\n",
    "stop_words=stopwords.words('english')\n",
    "\n",
    "def stop_it(text):\n",
    "    return [w  for w in text if not w in stop_words]\n",
    "\n",
    "dt['text']=dt['text'].apply(stop_it)\n",
    "\n",
    "dt['text']=dt['text'].apply( ' '.join)\n",
    "\n",
    "\n",
    "\n",
    "dt['text'][15]\n",
    "\n",
    " \n",
    "\n",
    "\n",
    "\n",
    " \n"
   ]
  },
  {
   "cell_type": "code",
   "execution_count": 2,
   "id": "93a8984e",
   "metadata": {},
   "outputs": [
    {
     "name": "stdout",
     "output_type": "stream",
     "text": [
      "accuracy: 87.5\n"
     ]
    }
   ],
   "source": [
    "from sklearn.feature_extraction.text import TfidfVectorizer\n",
    "tfidf = TfidfVectorizer()\n",
    "y=dt.spam.values\n",
    "x = tfidf.fit_transform(dt['text'])\n",
    "\n",
    "\n",
    "\n",
    "from sklearn.model_selection import train_test_split\n",
    "x_train, x_test, y_train, y_test = train_test_split(x, y,random_state=1,test_size=0.2,shuffle=False)\n",
    "\n",
    "\n",
    "from sklearn.linear_model import LogisticRegression\n",
    "clf=LogisticRegression()\n",
    "clf.fit(x_train,y_train)\n",
    "y_pred=clf.predict(x_test)\n",
    "from sklearn.metrics import accuracy_score\n",
    "acc_log=accuracy_score(y_pred,y_test)*100\n",
    "print(\"accuracy:\",acc_log)"
   ]
  },
  {
   "cell_type": "code",
   "execution_count": 3,
   "id": "c85602e8",
   "metadata": {},
   "outputs": [
    {
     "name": "stdout",
     "output_type": "stream",
     "text": [
      "accuracy: 87.5\n"
     ]
    }
   ],
   "source": [
    "from sklearn.svm import LinearSVC\n",
    "\n",
    "linear_svc = LinearSVC(random_state=0) \n",
    "linear_svc.fit(x_train, y_train) \n",
    "y_pred = linear_svc.predict(x_test)\n",
    "acc_linear_svc =accuracy_score(y_pred, y_test) * 100\n",
    "print(\"accuracy:\",acc_linear_svc)"
   ]
  }
 ],
 "metadata": {
  "kernelspec": {
   "display_name": "Python 3",
   "language": "python",
   "name": "python3"
  },
  "language_info": {
   "codemirror_mode": {
    "name": "ipython",
    "version": 3
   },
   "file_extension": ".py",
   "mimetype": "text/x-python",
   "name": "python",
   "nbconvert_exporter": "python",
   "pygments_lexer": "ipython3",
   "version": "3.8.8"
  }
 },
 "nbformat": 4,
 "nbformat_minor": 5
}
